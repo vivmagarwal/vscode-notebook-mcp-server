{
 "cells": [
  {
   "cell_type": "markdown",
   "id": "cb5a4c48",
   "metadata": {},
   "source": [
    "# Demo Notebook - MCP Server Test\n",
    "\n",
    "Notebook created with VSCode Notebook MCP Server."
   ]
  },
  {
   "cell_type": "code",
   "execution_count": 3,
   "id": "3caf163d",
   "metadata": {},
   "outputs": [
    {
     "name": "stdout",
     "output_type": "stream",
     "text": [
      "Hello, VSCode Notebook!\n"
     ]
    }
   ],
   "source": [
    "# Your Python code here\n",
    "print('Hello, VSCode Notebook!')"
   ]
  },
  {
   "cell_type": "markdown",
   "id": "351b52f8",
   "metadata": {},
   "source": [
    "# Testing MCP Server Functionality\n",
    "\n",
    "This notebook demonstrates the VSCode Notebook MCP Server capabilities:\n",
    "- Creating notebooks\n",
    "- Adding and modifying cells\n",
    "- Running Python code\n",
    "- Data analysis examples"
   ]
  },
  {
   "cell_type": "code",
   "execution_count": 4,
   "id": "6f6bae5b",
   "metadata": {},
   "outputs": [
    {
     "name": "stdout",
     "output_type": "stream",
     "text": [
      "MCP Server Demo - Basic Operations\n",
      "Current time: 2025-06-12 23:23:23.023604\n",
      "Numbers: [1, 2, 3, 4, 5, 6, 7, 8, 9, 10]\n",
      "Sum: 55\n",
      "Average: 5.5\n",
      "Square root of sum: 7.416198487095663\n"
     ]
    }
   ],
   "source": [
    "# Basic Python operations\n",
    "import datetime\n",
    "import math\n",
    "\n",
    "print(\"MCP Server Demo - Basic Operations\")\n",
    "print(f\"Current time: {datetime.datetime.now()}\")\n",
    "\n",
    "# Mathematical operations\n",
    "numbers = [1, 2, 3, 4, 5, 6, 7, 8, 9, 10]\n",
    "print(f\"Numbers: {numbers}\")\n",
    "print(f\"Sum: {sum(numbers)}\")\n",
    "print(f\"Average: {sum(numbers) / len(numbers)}\")\n",
    "print(f\"Square root of sum: {math.sqrt(sum(numbers))}\")"
   ]
  },
  {
   "cell_type": "code",
   "execution_count": null,
   "id": "87914dc1",
   "metadata": {},
   "outputs": [],
   "source": [
    "# Data Analysis Example\n",
    "import json\n",
    "\n",
    "# Sample dataset\n",
    "student_scores = {\n",
    "    'Alice': [85, 92, 78, 96],\n",
    "    'Bob': [76, 88, 92, 85],\n",
    "    'Charlie': [90, 87, 94, 89],\n",
    "    'Diana': [82, 95, 88, 91]\n",
    "}\n",
    "\n",
    "# Calculate averages\n",
    "print(\"Student Average Scores:\")\n",
    "for student, scores in student_scores.items():\n",
    "    avg = sum(scores) / len(scores)\n",
    "    print(f\"{student}: {avg:.2f}\")\n",
    "\n",
    "# Find highest performer\n",
    "all_averages = {student: sum(scores)/len(scores) for student, scores in student_scores.items()}\n",
    "best_student = max(all_averages, key=all_averages.get)\n",
    "print(f\"\\nTop performer: {best_student} with {all_averages[best_student]:.2f} average\")"
   ]
  },
  {
   "cell_type": "markdown",
   "id": "620d93e0",
   "metadata": {},
   "source": [
    "## Summary\n",
    "\n",
    "This notebook was created and populated entirely using the VSCode Notebook MCP Server! \n",
    "\n",
    "### What we demonstrated:\n",
    "1. ✅ Created a new notebook programmatically\n",
    "2. ✅ Added markdown cells for documentation\n",
    "3. ✅ Added code cells with Python functionality\n",
    "4. ✅ Included data analysis examples\n",
    "\n",
    "The MCP server provides full notebook management capabilities including creating, reading, modifying, and organizing notebook content."
   ]
  }
 ],
 "metadata": {
  "created": "2025-06-12T22:34:17.535681",
  "kernelspec": {
   "display_name": ".venv",
   "language": "python",
   "name": "python3"
  },
  "language_info": {
   "codemirror_mode": {
    "name": "ipython",
    "version": 3
   },
   "file_extension": ".py",
   "mimetype": "text/x-python",
   "name": "python",
   "nbconvert_exporter": "python",
   "pygments_lexer": "ipython3",
   "version": "3.13.1"
  },
  "title": "Demo Notebook - MCP Server Test",
  "vscode_notebook_mcp": {
   "created_by": "VSCode Notebook MCP Server",
   "version": "1.0.0"
  }
 },
 "nbformat": 4,
 "nbformat_minor": 5
}
