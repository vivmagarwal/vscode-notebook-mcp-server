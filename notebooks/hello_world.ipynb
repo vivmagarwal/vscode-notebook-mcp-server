{
 "cells": [
  {
   "cell_type": "markdown",
   "id": "21746f08",
   "metadata": {},
   "source": [
    "# Hello World Notebook\n",
    "\n",
    "Notebook created with VSCode Notebook MCP Server."
   ]
  },
  {
   "cell_type": "code",
   "execution_count": 6,
   "id": "da6cfbe7",
   "metadata": {},
   "outputs": [
    {
     "name": "stdout",
     "output_type": "stream",
     "text": [
      "Hello, VSCode Notebook!\n"
     ]
    }
   ],
   "source": [
    "# Your Python code here\n",
    "print('Hello, VSCode Notebook!')"
   ]
  },
  {
   "cell_type": "code",
   "execution_count": 7,
   "id": "c25876c6",
   "metadata": {},
   "outputs": [
    {
     "name": "stdout",
     "output_type": "stream",
     "text": [
      "Hello World!\n"
     ]
    }
   ],
   "source": [
    "print(\"Hello World!\")"
   ]
  },
  {
   "cell_type": "code",
   "execution_count": 8,
   "id": "caecf916",
   "metadata": {},
   "outputs": [
    {
     "name": "stdout",
     "output_type": "stream",
     "text": [
      "Hello World!\n",
      "Current time: 2025-06-13 06:04:36.690054\n",
      "This cell was added using the MCP server!\n"
     ]
    }
   ],
   "source": [
    "# Another Hello World example with more details\n",
    "import datetime\n",
    "\n",
    "print(\"Hello World!\")\n",
    "print(f\"Current time: {datetime.datetime.now()}\")\n",
    "print(\"This cell was added using the MCP server!\")"
   ]
  },
  {
   "cell_type": "code",
   "execution_count": 9,
   "id": "76d15eae",
   "metadata": {},
   "outputs": [
    {
     "name": "stdout",
     "output_type": "stream",
     "text": [
      "10 + 20 = 30\n"
     ]
    }
   ],
   "source": [
    "# Simple arithmetic operations\n",
    "a = 10\n",
    "b = 20\n",
    "result = a + b\n",
    "print(f\"{a} + {b} = {result}\")"
   ]
  },
  {
   "cell_type": "code",
   "execution_count": 10,
   "id": "be941a95",
   "metadata": {},
   "outputs": [
    {
     "name": "stdout",
     "output_type": "stream",
     "text": [
      "Hello, Python Developer! Welcome to our notebook.\n"
     ]
    }
   ],
   "source": [
    "# Simple function definition\n",
    "def greet(name):\n",
    "    return f\"Hello, {name}! Welcome to our notebook.\"\n",
    "\n",
    "# Test the function\n",
    "greeting = greet(\"Python Developer\")\n",
    "print(greeting)"
   ]
  },
  {
   "cell_type": "code",
   "execution_count": 11,
   "id": "a33d4034",
   "metadata": {},
   "outputs": [
    {
     "name": "stdout",
     "output_type": "stream",
     "text": [
      "Original list: ['apple', 'banana', 'orange', 'grape']\n",
      "After adding strawberry: ['apple', 'banana', 'orange', 'grape', 'strawberry']\n",
      "Uppercase fruits: ['APPLE', 'BANANA', 'ORANGE', 'GRAPE', 'STRAWBERRY']\n"
     ]
    }
   ],
   "source": [
    "# Working with lists\n",
    "fruits = ['apple', 'banana', 'orange', 'grape']\n",
    "print(f\"Original list: {fruits}\")\n",
    "\n",
    "# Add a new fruit\n",
    "fruits.append('strawberry')\n",
    "print(f\"After adding strawberry: {fruits}\")\n",
    "\n",
    "# List comprehension\n",
    "upper_fruits = [fruit.upper() for fruit in fruits]\n",
    "print(f\"Uppercase fruits: {upper_fruits}\")"
   ]
  }
 ],
 "metadata": {
  "created": "2025-06-13T05:54:48.140735",
  "kernelspec": {
   "display_name": "Python 3",
   "language": "python",
   "name": "python3"
  },
  "language_info": {
   "codemirror_mode": {
    "name": "ipython",
    "version": 3
   },
   "file_extension": ".py",
   "mimetype": "text/x-python",
   "name": "python",
   "nbconvert_exporter": "python",
   "pygments_lexer": "ipython3"
  },
  "title": "Hello World Notebook",
  "vscode_notebook_mcp": {
   "created_by": "VSCode Notebook MCP Server",
   "version": "1.0.0"
  }
 },
 "nbformat": 4,
 "nbformat_minor": 5
}
